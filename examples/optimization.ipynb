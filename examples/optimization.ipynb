{
 "cells": [
  {
   "cell_type": "code",
   "execution_count": 1,
   "metadata": {},
   "outputs": [],
   "source": [
    "using Statistics\n",
    "using Plots\n",
    "\n",
    "using BlackBoxOptim\n",
    "using BlackBoxOptim: num_func_evals\n",
    "\n",
    "using MATLAB"
   ]
  },
  {
   "cell_type": "code",
   "execution_count": 2,
   "metadata": {},
   "outputs": [],
   "source": [
    "sess = MSession()\n",
    "\n",
    "# Open ADRIA project\n",
    "adria_loc = \"c:/programs/ownCloud/projects/AIMS/ADRIA_repo\"\n",
    "eval_string(sess, \"prj_dir = '$(adria_loc)';\")\n",
    "eval_string(sess, \"openProject(prj_dir);\")"
   ]
  },
  {
   "cell_type": "code",
   "execution_count": 3,
   "metadata": {},
   "outputs": [
    {
     "name": "stdout",
     "output_type": "stream",
     "text": [
      "c:/programs/ownCloud/projects/AIMS/ADRIA_repo\n"
     ]
    }
   ],
   "source": [
    "mat\"\"\"disp(prj_dir)\"\"\""
   ]
  },
  {
   "cell_type": "code",
   "execution_count": 4,
   "metadata": {},
   "outputs": [],
   "source": [
    "mat\"\"\"\n",
    "ai = ADRIA();\n",
    "ai = ai.loadConnectivity(strcat(prj_dir, '/Inputs/MooreTPMean.xlsx'));\n",
    "\n",
    "% Intervention parameter details\n",
    "intervention_details = ai.interventions;\n",
    "\n",
    "% Parameter table to update\n",
    "sample_params = ai.sample_defaults;\n",
    "\n",
    "% Extract coral parameters used\n",
    "% For sensitivity analysis, these values would change\n",
    "% and so would need to be extracted for every run.\n",
    "% But here we're only perturbing intervention parameters\n",
    "% so this can remain constant over all runs\n",
    "[~, ~, coral_params] = ai.splitParameterTable(sample_params);\n",
    "\n",
    "% Transfer intervention parameter bounds to Julia\n",
    "$l_bnd = intervention_details.lower_bound;\n",
    "$u_bnd = intervention_details.upper_bound;\n",
    "\n",
    "% MATLAB C API limitation with strings. \n",
    "% Have to call this function to extract usable character vectors.\n",
    "$param_names = convertContainedStringsToChars(intervention_details.name);\n",
    "\"\"\""
   ]
  },
  {
   "cell_type": "code",
   "execution_count": 5,
   "metadata": {},
   "outputs": [
    {
     "data": {
      "text/plain": [
       "10"
      ]
     },
     "execution_count": 5,
     "metadata": {},
     "output_type": "execute_result"
    }
   ],
   "source": [
    "length(param_names)"
   ]
  },
  {
   "cell_type": "code",
   "execution_count": 6,
   "metadata": {},
   "outputs": [
    {
     "data": {
      "text/plain": [
       "callback (generic function with 1 method)"
      ]
     },
     "execution_count": 6,
     "metadata": {},
     "output_type": "execute_result"
    }
   ],
   "source": [
    "mean_TC_progress = []\n",
    "mean_E_progress = []\n",
    "function callback(oc)\n",
    "    bs = best_fitness(oc)\n",
    "    metric_values = bs.orig  # Use `bs.agg` for aggregated values\n",
    "    push!(mean_TC_progress, metric_values[1])\n",
    "    push!(mean_E_progress, metric_values[2])\n",
    "\n",
    "    nf = num_func_evals(oc)\n",
    "\n",
    "    # Display last 20 results\n",
    "    plot_window = min(20, length(mean_TC_progress)-1)\n",
    "    fig = plot(mean_TC_progress[end-plot_window:end], label=\"TC fitness\")\n",
    "    fig2 = plot(mean_E_progress[end-plot_window:end], label=\"E fitness\")\n",
    "    d = plot(fig, fig2, size=(1000, 400), layout=(1,2))\n",
    "    display(d)\n",
    "end"
   ]
  },
  {
   "cell_type": "code",
   "execution_count": 7,
   "metadata": {},
   "outputs": [
    {
     "data": {
      "text/plain": [
       "mean_result"
      ]
     },
     "execution_count": 7,
     "metadata": {},
     "output_type": "execute_result"
    }
   ],
   "source": [
    "\"\"\"Helper function to collect the average metric result at end of simulation time.\"\"\"\n",
    "function mean_result(Ymet)\n",
    "    # Reorder so that simulation index is first\n",
    "    Ymet = permutedims(Ymet, [3, 1, 2])\n",
    "\n",
    "    # Calculate element-wise mean across simulations\n",
    "    # i.e., mean of value at same time/site across replicates\n",
    "    mean_Y = mean(Ymet, dims=1)\n",
    "\n",
    "    # Drop singleton dimension (equivalent to `squeeze()` in matlab)\n",
    "    # and get last entry (last time step)\n",
    "    mean_Y = dropdims(mean_Y, dims=1)[end, :];\n",
    "\n",
    "    # Average value at end of simulation time\n",
    "    return mean(mean_Y)\n",
    "end"
   ]
  },
  {
   "cell_type": "code",
   "execution_count": 8,
   "metadata": {},
   "outputs": [
    {
     "data": {
      "text/plain": [
       "objfunc (generic function with 1 method)"
      ]
     },
     "execution_count": 8,
     "metadata": {},
     "output_type": "execute_result"
    }
   ],
   "source": [
    "function objfunc(X)\n",
    "\n",
    "    # Update parameter values by name\n",
    "    for (pn, val) in zip(param_names, X)\n",
    "        eval_string(sess, \"sample_params.('$pn') = $val;\")\n",
    "    end\n",
    "\n",
    "    mat\"\"\"\n",
    "    % Run simulation with updated sample values\n",
    "    Y = ai.run(sample_params, sampled_values=true, nreps=50);\n",
    "\n",
    "    % Collate metrics\n",
    "    $Ymet = collectMetrics(Y, coral_params, {@coralTaxaCover, @coralEvenness});\n",
    "    \"\"\"\n",
    "\n",
    "    # Get total coral cover over time/sites for each simulation\n",
    "    TC = Ymet[\"coralTaxaCover\"][\"total_cover\"]\n",
    "    mean_TC = mean_result(TC)\n",
    "    mean_evenness = mean_result(Ymet[\"coralEvenness\"])  # coral evenness\n",
    "\n",
    "    # Return average results at end of simulation time\n",
    "    return (mean_TC, mean_evenness)\n",
    "end"
   ]
  },
  {
   "cell_type": "code",
   "execution_count": 9,
   "metadata": {},
   "outputs": [
    {
     "data": {
      "text/plain": [
       "2.9"
      ]
     },
     "execution_count": 9,
     "metadata": {},
     "output_type": "execute_result"
    }
   ],
   "source": [
    "# Ignore the multi-objective GA option for MCDA\n",
    "# Constains to rank order or TOPSIS\n",
    "u_bnd[2] = 2.9"
   ]
  },
  {
   "cell_type": "code",
   "execution_count": 10,
   "metadata": {},
   "outputs": [
    {
     "name": "stdout",
     "output_type": "stream",
     "text": [
      "Starting parallel pool (parpool) using the 'local' profile ...\n",
      "Connected to the parallel pool (number of workers: 4).\n",
      "Starting optimization with optimizer BlackBoxOptim.BorgMOEA{EpsBoxDominanceFitnessScheme{2, Float64, false, typeof(sum)}, BlackBoxOptim.ProblemEvaluator{Tuple{Float64, Float64}, IndexedTupleFitness{2, Float64}, EpsBoxArchive{2, Float64, EpsBoxDominanceFitnessScheme{2, Float64, false, typeof(sum)}}, FunctionBasedProblem{typeof(objfunc), ParetoFitnessScheme{2, Float64, false, typeof(sum)}, ContinuousRectSearchSpace, Nothing}}, FitPopulation{IndexedTupleFitness{2, Float64}}, FixedGeneticOperatorsMixture, RandomBound{ContinuousRectSearchSpace}}\n",
      "0.00 secs, 0 evals, 0 steps\n",
      "pop.size=500 arch.size=0 n.restarts=0\n",
      "1261.17 secs, 501 evals, 1 steps, fitness=(29.39852, 0.59781) agg=29.99633\n",
      "pop.size=500 arch.size=7 n.restarts=0\n",
      "1863.23 secs, 748 evals, 205 steps, fitness=(35.58962, 0.60561) agg=36.19523\n",
      "pop.size=500 arch.size=7 n.restarts=0\n",
      "2463.35 secs, 918 evals, 346 steps, fitness=(35.74004, 0.60488) agg=36.34492\n",
      "pop.size=500 arch.size=6 n.restarts=0\n",
      "3103.79 secs, 1060 evals, 452 steps, fitness=(35.74004, 0.60488) agg=36.34492\n",
      "pop.size=500 arch.size=6 n.restarts=0\n",
      "3705.33 secs, 1202 evals, 558 steps, fitness=(36.10537, 0.60452) agg=36.70989\n",
      "pop.size=500 arch.size=7 n.restarts=0\n",
      "4307.64 secs, 1358 evals, 668 steps, fitness=(36.10537, 0.60452) agg=36.70989\n",
      "pop.size=500 arch.size=7 n.restarts=0\n",
      "4965.53 secs, 1503 evals, 775 steps, fitness=(36.10537, 0.60452) agg=36.70989\n",
      "pop.size=500 arch.size=7 n.restarts=0\n",
      "5568.29 secs, 1698 evals, 904 steps, fitness=(36.22988, 0.60590) agg=36.83578\n",
      "pop.size=500 arch.size=7 n.restarts=0\n",
      "6172.68 secs, 1824 evals, 989 steps, fitness=(36.22988, 0.60590) agg=36.83578\n",
      "pop.size=500 arch.size=7 n.restarts=0\n",
      "7851.91 secs, 2334 evals, 1000 steps, fitness=(36.22988, 0.60590) agg=36.83578\n",
      "pop.size=500 arch.size=7 n.restarts=1\n",
      "8452.19 secs, 2502 evals, 1139 steps, fitness=(36.22988, 0.60590) agg=36.83578\n",
      "pop.size=500 arch.size=7 n.restarts=1\n",
      "9105.67 secs, 2635 evals, 1242 steps, fitness=(36.22988, 0.60590) agg=36.83578\n",
      "pop.size=500 arch.size=7 n.restarts=1\n",
      "9708.30 secs, 2787 evals, 1357 steps, fitness=(36.22988, 0.60590) agg=36.83578\n",
      "pop.size=500 arch.size=7 n.restarts=1\n",
      "10311.62 secs, 2975 evals, 1485 steps, fitness=(36.22988, 0.60590) agg=36.83578\n",
      "pop.size=500 arch.size=7 n.restarts=1\n",
      "10912.90 secs, 3150 evals, 1609 steps, fitness=(36.22988, 0.60590) agg=36.83578\n",
      "pop.size=500 arch.size=7 n.restarts=1\n",
      "11514.71 secs, 3304 evals, 1714 steps, fitness=(36.72029, 0.46699) agg=37.18728\n",
      "pop.size=500 arch.size=8 n.restarts=1\n",
      "12165.71 secs, 3499 evals, 1859 steps, fitness=(38.47575, 0.44883) agg=38.92457\n",
      "pop.size=500 arch.size=9 n.restarts=1"
     ]
    }
   ],
   "source": [
    "n_params = length(param_names)\n",
    "\n",
    "res = bboptimize(objfunc; Method=:borg_moea,\n",
    "                 FitnessScheme=ParetoFitnessScheme{2}(is_minimizing=false),\n",
    "                 SearchRange=collect(zip(l_bnd, u_bnd)),\n",
    "                 ϵ=0.05,\n",
    "                 NumDimensions=n_params, MaxTime=3600*4,\n",
    "                 TraceInterval=600, PopulationSize=500);  # CallbackFunction=callback, CallbackInterval=900.0, TraceMode=:silent"
   ]
  },
  {
   "cell_type": "code",
   "execution_count": null,
   "metadata": {},
   "outputs": [],
   "source": [
    "# Before improvements, MaxTime: 4 hours\n",
    "# Best candidate found: [2.77113, 2.92069, 2.78518, 9.98221e5, 9.99982e5, 1.99449, 11.9998, 0.0827281, 6.34444, 6.99785]\n",
    "# Fitness: (38.63666, 0.50006) agg=39.13672\n",
    "\n",
    "# close(sess)"
   ]
  }
 ],
 "metadata": {
  "kernelspec": {
   "display_name": "Julia 1.6.3",
   "language": "julia",
   "name": "julia-1.6"
  },
  "language_info": {
   "file_extension": ".jl",
   "mimetype": "application/julia",
   "name": "julia",
   "version": "1.6.3"
  },
  "orig_nbformat": 4
 },
 "nbformat": 4,
 "nbformat_minor": 2
}
